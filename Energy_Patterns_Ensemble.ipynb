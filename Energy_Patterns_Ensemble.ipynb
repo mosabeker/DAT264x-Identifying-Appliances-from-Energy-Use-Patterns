{
 "cells": [
  {
   "cell_type": "code",
   "execution_count": 1,
   "metadata": {},
   "outputs": [
    {
     "name": "stderr",
     "output_type": "stream",
     "text": [
      "Using TensorFlow backend.\n"
     ]
    }
   ],
   "source": [
    "import warnings\n",
    "warnings.filterwarnings('ignore')\n",
    "\n",
    "import keras\n",
    "from keras.models import load_model\n",
    "from keras import backend as K\n",
    "\n",
    "#from utils import load_test_data\n",
    "\n"
   ]
  },
  {
   "cell_type": "code",
   "execution_count": 2,
   "metadata": {},
   "outputs": [],
   "source": [
    "ensembling_models = {\n",
    "    'keras_whereami_trained_model_c' :{'img_size':139},\n",
    "    'keras_whereami_trained_model_v' :{'img_size': 128}\n",
    "}"
   ]
  },
  {
   "cell_type": "code",
   "execution_count": 3,
   "metadata": {},
   "outputs": [
    {
     "name": "stdout",
     "output_type": "stream",
     "text": [
      "659\n"
     ]
    }
   ],
   "source": [
    "import ntpath\n",
    "import os\n",
    "import glob\n",
    "import cv2\n",
    "import numpy as np\n",
    "import matplotlib.pyplot as plt\n",
    "\n",
    "def path_leaf(path):\n",
    "    head, tail = ntpath.split(path)\n",
    "    return tail or ntpath.basename(head)\n",
    "\n",
    "test_path = os.path.join(os.getcwd(), 'test')\n",
    "test_listc = glob.glob(os.path.join(test_path, '*_c.png'))\n",
    "test_id = [path_leaf(s).strip('_c.png') for s in test_listc]\n",
    "test_listv=[test_listc[x].replace('_c','_v') for x in range(len(test_listc))]\n",
    "print(len(test_listv))\n",
    "\n"
   ]
  },
  {
   "cell_type": "code",
   "execution_count": 4,
   "metadata": {},
   "outputs": [
    {
     "name": "stdout",
     "output_type": "stream",
     "text": [
      "['/home/jovyan/edx/test/2051_c.png', '/home/jovyan/edx/test/2569_c.png', '/home/jovyan/edx/test/2121_c.png', '/home/jovyan/edx/test/2043_c.png', '/home/jovyan/edx/test/2504_c.png']\n",
      "['/home/jovyan/edx/test/2051_v.png', '/home/jovyan/edx/test/2569_v.png', '/home/jovyan/edx/test/2121_v.png', '/home/jovyan/edx/test/2043_v.png', '/home/jovyan/edx/test/2504_v.png']\n"
     ]
    }
   ],
   "source": [
    "print(test_listc[:5])\n",
    "print(test_listv[:5])"
   ]
  },
  {
   "cell_type": "code",
   "execution_count": 5,
   "metadata": {},
   "outputs": [],
   "source": [
    "def load_testdata(n_size):\n",
    "    test_data_list =[]\n",
    "    for i in range(len(test_listc)):\n",
    "        if(n_size==139):\n",
    "            img = cv2.imread(test_listc[i])\n",
    "        else:\n",
    "            img = cv2.imread(test_listv[i])\n",
    " \n",
    "        img = cv2.resize(img, (img_size, img_size))\n",
    "        img = img.astype(np.float32)\n",
    "        img = cv2.cvtColor(img, cv2.COLOR_BGR2RGB)\n",
    "        img = img - np.array([123.68, 116.779, 103.939])\n",
    "        #img = img[:,:,::-1]  # RGB to BGR\n",
    "        img = (img - np.min(img)) / np.max(img)\n",
    "        test_data_list.append(np.asarray(img))\n",
    "\n",
    "    test_data = np.array(test_data_list)    \n",
    "    print(test_data.shape)\n",
    "    return test_data"
   ]
  },
  {
   "cell_type": "code",
   "execution_count": 6,
   "metadata": {},
   "outputs": [
    {
     "name": "stdout",
     "output_type": "stream",
     "text": [
      "0.79_c_keras_whereami_trained_model\n",
      "(659, 139, 139, 3)\n",
      "0.796_v_keras_whereami_trained_model\n",
      "(659, 128, 128, 3)\n"
     ]
    }
   ],
   "source": [
    "for key in ensembling_models.keys():\n",
    "    print(key)\n",
    "    img_size = ensembling_models[key]['img_size']\n",
    "    model = load_model('./saved_models/{}.h5'.format(key))\n",
    "    X_test= load_testdata(img_size)\n",
    "    ensembling_models[key]['y_test_pred_prob'] = model.predict(X_test)"
   ]
  },
  {
   "cell_type": "code",
   "execution_count": 7,
   "metadata": {},
   "outputs": [],
   "source": [
    "num_models = float(len(ensembling_models.keys()))\n",
    "y_test_pred_prob = 0\n",
    "for key in ensembling_models.keys():\n",
    "    y_test_pred_prob += ensembling_models[key]['y_test_pred_prob']\n",
    "\n",
    "y_test_pred_prob /= num_models"
   ]
  },
  {
   "cell_type": "code",
   "execution_count": 9,
   "metadata": {},
   "outputs": [],
   "source": [
    "y_test_pred = y_test_pred_prob.argmax(axis=-1)"
   ]
  },
  {
   "cell_type": "code",
   "execution_count": 11,
   "metadata": {},
   "outputs": [],
   "source": [
    "import numpy as np\n",
    "import pandas as pd\n",
    "df = pd.DataFrame( {\"id\": test_id, \"appliance\": pd.Series(y_test_pred)} )\n",
    "df = df[['id', 'appliance']]\n",
    "df=df.sort_values ([\"id\"])\n",
    "#df=df.sort_values ([\"id\"],ascending=True)\n",
    "#df.to_csv('submission_data0.csv', index = False)\n",
    "df.to_csv('ensemble.csv', index = False)"
   ]
  }
 ],
 "metadata": {
  "kernelspec": {
   "display_name": "Python 3",
   "language": "python",
   "name": "python3"
  },
  "language_info": {
   "codemirror_mode": {
    "name": "ipython",
    "version": 3
   },
   "file_extension": ".py",
   "mimetype": "text/x-python",
   "name": "python",
   "nbconvert_exporter": "python",
   "pygments_lexer": "ipython3",
   "version": "3.6.5"
  }
 },
 "nbformat": 4,
 "nbformat_minor": 2
}
